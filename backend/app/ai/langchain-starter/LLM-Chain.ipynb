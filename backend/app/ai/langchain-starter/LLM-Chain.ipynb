{
 "cells": [
  {
   "cell_type": "code",
   "execution_count": 23,
   "metadata": {},
   "outputs": [
    {
     "name": "stdout",
     "output_type": "stream",
     "text": [
      "hello there!\n"
     ]
    }
   ],
   "source": [
    "# CHAINS! It usually combines LLM with prompts, and with this you can really use this to generate a great SEQUENCE OF EVENTS TOGETHER!\n",
    "import os\n",
    "import openai\n",
    "from dotenv import load_dotenv, find_dotenv\n",
    "\n",
    "_ = load_dotenv(find_dotenv()) # read the local .env file\n",
    "openai.api_key = os.environ['OPENAI_API_KEY'] # this is now the API key to use\n",
    "\n",
    "testEnvString = os.environ['TEST_ENV'] # test to see if .env is working\n",
    "print(testEnvString)"
   ]
  },
  {
   "cell_type": "code",
   "execution_count": 24,
   "metadata": {},
   "outputs": [],
   "source": [
    "# You can read several different kinds of inputs here!\n",
    "# For example, let's load in a pandas dataframe\n",
    "import pandas as pd\n",
    "df = pd.read_csv('./assets/TopicsList.csv')\n",
    "\n",
    "df.head()\n",
    "\n",
    "# Let's input a few things\n",
    "# model\n",
    "from langchain_openai.chat_models import ChatOpenAI\n",
    "# prompts\n",
    "from langchain.prompts import ChatPromptTemplate\n",
    "# chains\n",
    "from langchain.chains import LLMChain\n",
    "model = 'gpt-4o'\n",
    "\n",
    "llm = ChatOpenAI(temperature=0.1, model=model) # initialize our LLM\n",
    "\n",
    "prompt = ChatPromptTemplate.from_template(\n",
    "    \"What is the best topic to study, if I want to brush up on {studyTopic}?\"\n",
    ")\n",
    "\n",
    "chain = LLMChain(llm=llm, prompt=prompt)\n"
   ]
  },
  {
   "cell_type": "code",
   "execution_count": 25,
   "metadata": {},
   "outputs": [
    {
     "name": "stdout",
     "output_type": "stream",
     "text": [
      "If you want to brush up on string manipulation and concatenation, focusing on the following topics can be highly beneficial:\n",
      "\n",
      "1. **Basic String Operations**:\n",
      "   - Understanding string literals and how to create strings.\n",
      "   - Basic operations like accessing characters, slicing, and indexing.\n",
      "\n",
      "2. **String Methods**:\n",
      "   - Familiarize yourself with common string methods such as `split()`, `join()`, `replace()`, `strip()`, `find()`, `upper()`, `lower()`, `startswith()`, and `endswith()`.\n",
      "\n",
      "3. **String Formatting**:\n",
      "   - Learn about different ways to format strings, including the use of `%` operator, `str.format()`, and f-strings (formatted string literals) in Python.\n",
      "\n",
      "4. **Concatenation Techniques**:\n",
      "   - Practice different ways to concatenate strings, such as using the `+` operator, `join()` method, and f-strings.\n",
      "\n",
      "5. **Regular Expressions**:\n",
      "   - Study regular expressions (regex) for advanced string searching and manipulation. Learn how to use libraries like `re` in Python.\n",
      "\n",
      "6. **Escape Characters**:\n",
      "   - Understand how to use escape characters to include special characters in strings.\n",
      "\n",
      "7. **String Encoding and Decoding**:\n",
      "   - Learn about different string encodings (like UTF-8) and how to encode and decode strings.\n",
      "\n",
      "8. **Performance Considerations**:\n",
      "   - Explore the performance implications of different string operations, especially in large-scale applications.\n",
      "\n",
      "9. **Practical Applications**:\n",
      "   - Work on practical problems and projects that involve string manipulation, such as text processing, data cleaning, and parsing.\n",
      "\n",
      "10. **Language-Specific Features**:\n",
      "    - If you are working with a specific programming language, delve into its unique features and libraries for string manipulation. For example, Python has extensive support for string operations, while JavaScript has its own set of methods and properties.\n",
      "\n",
      "By studying these topics, you'll gain a comprehensive understanding of string manipulation and concatenation, which are fundamental skills in programming.\n"
     ]
    }
   ],
   "source": [
    "studyTopic = \"string manipulation and concatenation\"\n",
    "print(chain.run(studyTopic))\n",
    "\n",
    "# LLM chain is quite useful"
   ]
  },
  {
   "cell_type": "code",
   "execution_count": 26,
   "metadata": {},
   "outputs": [],
   "source": [
    "# SEQUENTIAL CHAINS\n",
    "# Chains that run one after each other. The idea is to combine multiple chains where the output of one chain, is the input of the next\n",
    "\n",
    "# TWO TYPES:\n",
    "# 1. SimpleSequentialChain: single input/output\n",
    "# 2. SequentialChain: multiple inputs/outputs"
   ]
  },
  {
   "cell_type": "code",
   "execution_count": 27,
   "metadata": {},
   "outputs": [],
   "source": [
    "from langchain.chains import SimpleSequentialChain\n",
    "\n",
    "llm = ChatOpenAI(temperature=0.8, model=model)\n",
    "\n",
    "# prompt template 1\n",
    "first_prompt = ChatPromptTemplate.from_template(\n",
    "    \"What is the best name to describe \\\n",
    "    a company that makes {product}?\"\n",
    ")\n",
    "\n",
    "# Chain 1\n",
    "chain_one = LLMChain(llm=llm, prompt=first_prompt)"
   ]
  },
  {
   "cell_type": "code",
   "execution_count": 28,
   "metadata": {},
   "outputs": [],
   "source": [
    "# prompt template 2\n",
    "second_prompt = ChatPromptTemplate.from_template(\n",
    "    \"Write a 20 words description for the following \\\n",
    "    company:{company_name}\"\n",
    ")\n",
    "# chain 2\n",
    "chain_two = LLMChain(llm=llm, prompt=second_prompt)"
   ]
  },
  {
   "cell_type": "code",
   "execution_count": 29,
   "metadata": {},
   "outputs": [],
   "source": [
    "overall_simple_chain = SimpleSequentialChain(chains=[chain_one, chain_two],\n",
    "                                             verbose=True)"
   ]
  },
  {
   "cell_type": "code",
   "execution_count": 30,
   "metadata": {},
   "outputs": [
    {
     "name": "stdout",
     "output_type": "stream",
     "text": [
      "\n",
      "\n",
      "\u001b[1m> Entering new SimpleSequentialChain chain...\u001b[0m\n",
      "\u001b[36;1m\u001b[1;3mChoosing a name for a company that makes soap with an aloe scent can be both fun and strategic. You'll want something that conveys freshness, cleanliness, and the soothing properties of aloe. Here are a few suggestions:\n",
      "\n",
      "1. **AloeFresh Soaps**\n",
      "2. **AloeAura Creations**\n",
      "3. **Soothing Aloe Suds**\n",
      "4. **PureAloe Soapworks**\n",
      "5. **GreenAloe Essence**\n",
      "6. **AloeVera Bliss**\n",
      "7. **AloeLux Soaps**\n",
      "8. **AloeScent Naturals**\n",
      "9. **AloeDream Soaps**\n",
      "10. **AloeZen Suds**\n",
      "\n",
      "When choosing a name, consider factors such as domain availability for your website, trademark issues, and how the name resonates with your target audience.\u001b[0m\n",
      "\u001b[33;1m\u001b[1;3mAloeFresh Soaps offers refreshing, clean, and soothing aloe-scented soaps, perfect for pampering your skin with natural aloe goodness.\u001b[0m\n",
      "\n",
      "\u001b[1m> Finished chain.\u001b[0m\n"
     ]
    },
    {
     "data": {
      "text/plain": [
       "'AloeFresh Soaps offers refreshing, clean, and soothing aloe-scented soaps, perfect for pampering your skin with natural aloe goodness.'"
      ]
     },
     "execution_count": 30,
     "metadata": {},
     "output_type": "execute_result"
    }
   ],
   "source": [
    "# Run these in conjunction with another to make one input another, make one output inform another input, etc. etc.\n",
    "product = \"soap that smells like Aloe?\"\n",
    "overall_simple_chain.run(product)"
   ]
  },
  {
   "cell_type": "code",
   "execution_count": null,
   "metadata": {},
   "outputs": [],
   "source": [
    "# MULTIPLE INPUTS? MULTIPLE OUTPUTS?\n",
    "# we can use the regular SequentialChain for this part\n",
    "from langchain.chains import SequentialChain\n"
   ]
  },
  {
   "cell_type": "code",
   "execution_count": null,
   "metadata": {},
   "outputs": [],
   "source": [
    "# Essentially, each LLMChain is like a \"node\" along the chain, and can produce an output_key that must be EXACTLY THAT in the next chain node\n",
    "# The essential parts for each LLMChain are:\n",
    "\n",
    "# 1. need llm=llm, to note which model to use\n",
    "# 2. need prompt=prompt, can be created from template\n",
    "# 3. recommend output_key, so that the input can be used in a subsequent chain"
   ]
  }
 ],
 "metadata": {
  "kernelspec": {
   "display_name": "venv",
   "language": "python",
   "name": "python3"
  },
  "language_info": {
   "codemirror_mode": {
    "name": "ipython",
    "version": 3
   },
   "file_extension": ".py",
   "mimetype": "text/x-python",
   "name": "python",
   "nbconvert_exporter": "python",
   "pygments_lexer": "ipython3",
   "version": "3.11.1"
  }
 },
 "nbformat": 4,
 "nbformat_minor": 2
}
