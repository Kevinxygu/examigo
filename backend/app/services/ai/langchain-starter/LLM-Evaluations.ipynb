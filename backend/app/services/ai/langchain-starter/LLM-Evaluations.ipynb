{
 "cells": [
  {
   "cell_type": "code",
   "execution_count": 95,
   "metadata": {},
   "outputs": [
    {
     "name": "stdout",
     "output_type": "stream",
     "text": [
      "hello there!\n"
     ]
    }
   ],
   "source": [
    "# Need to understand what's going in and out of each step?\n",
    "# this part is a lot of debuggers and stuff like that\n",
    "import os\n",
    "import openai\n",
    "from dotenv import load_dotenv, find_dotenv\n",
    "\n",
    "_ = load_dotenv(find_dotenv()) # read the local .env file\n",
    "openai.api_key = os.environ['OPENAI_API_KEY'] # this is now the API key to use\n",
    "\n",
    "testEnvString = os.environ['TEST_ENV'] # test to see if .env is working\n",
    "print(testEnvString)\n",
    "\n",
    "llm_model = 'gpt-4o'"
   ]
  },
  {
   "cell_type": "code",
   "execution_count": 96,
   "metadata": {},
   "outputs": [],
   "source": [
    "# How can we make sure that what's happening is useful? How can we make sure our performance is working well?\n",
    "# What if we use CHAINS THEMSELVES to evaluate them well?\n",
    "from langchain.chains import RetrievalQA\n",
    "from langchain_openai import ChatOpenAI\n",
    "from langchain.document_loaders import CSVLoader\n",
    "from langchain.indexes import VectorstoreIndexCreator\n",
    "from langchain.vectorstores import DocArrayInMemorySearch\n",
    "from langchain_openai import OpenAIEmbeddings"
   ]
  },
  {
   "cell_type": "code",
   "execution_count": 97,
   "metadata": {},
   "outputs": [
    {
     "name": "stdout",
     "output_type": "stream",
     "text": [
      "[Document(metadata={'source': './assets/TopicsList.csv', 'row': 0}, page_content='\\ufeffGeneral Topic: Excel Data Types\\nTestable Topics: How numbers are formatted in Excel, logical values in Excel, text in Excel'), Document(metadata={'source': './assets/TopicsList.csv', 'row': 1}, page_content='\\ufeffGeneral Topic: IF FUNCTION\\nTestable Topics: Questions around using the Excel IF Function'), Document(metadata={'source': './assets/TopicsList.csv', 'row': 2}, page_content='\\ufeffGeneral Topic: Cell References\\nTestable Topics: Questions around absolute referencing, relative referencing, mixed referencing'), Document(metadata={'source': './assets/TopicsList.csv', 'row': 3}, page_content='\\ufeffGeneral Topic: MAX Function\\nTestable Topics: Questions around the MAX function in Excel'), Document(metadata={'source': './assets/TopicsList.csv', 'row': 4}, page_content='\\ufeffGeneral Topic: MIN Function\\nTestable Topics: Questions around the MIN function in Excel'), Document(metadata={'source': './assets/TopicsList.csv', 'row': 5}, page_content='\\ufeffGeneral Topic: SUM Function\\nTestable Topics: Questions around the SUM function in Excel'), Document(metadata={'source': './assets/TopicsList.csv', 'row': 6}, page_content='\\ufeffGeneral Topic: AVERAGE Function\\nTestable Topics: Questions around the AVERAGE function in Excel'), Document(metadata={'source': './assets/TopicsList.csv', 'row': 7}, page_content='\\ufeffGeneral Topic: AND, OR and NOT Function\\nTestable Topics: Questions around the usage and evaluation of AND, OR and NOT functions'), Document(metadata={'source': './assets/TopicsList.csv', 'row': 8}, page_content='\\ufeffGeneral Topic: COUNTIF and COUNTIFS Functions\\nTestable Topics: Questions around the COUNTIF and COUNTIFS functions and different applications to use the function in'), Document(metadata={'source': './assets/TopicsList.csv', 'row': 9}, page_content='\\ufeffGeneral Topic: SUMIF and SUMIFS Functions\\nTestable Topics: Questions around the SUMIF and SUMIFS functions and different applications to use the function in'), Document(metadata={'source': './assets/TopicsList.csv', 'row': 10}, page_content='\\ufeffGeneral Topic: VLOOKUP\\nTestable Topics: Questions around how to use VLOOKUP properly, difference between setting last argument to TRUE vs FALSE, testing how to set up the VLOOKUP table itself, and bugs around the VLOOKUP table'), Document(metadata={'source': './assets/TopicsList.csv', 'row': 11}, page_content='\\ufeffGeneral Topic: INDEX Function\\nTestable Topics: Questions around how to use the INDEX function'), Document(metadata={'source': './assets/TopicsList.csv', 'row': 12}, page_content='\\ufeffGeneral Topic: MATCH Function\\nTestable Topics: Questions around how to use the MATCH function.'), Document(metadata={'source': './assets/TopicsList.csv', 'row': 13}, page_content='\\ufeffGeneral Topic: MATCH and INDEX together\\nTestable Topics: Questions and applications on how to combine the MATCH and INDEX functions together in Excel'), Document(metadata={'source': './assets/TopicsList.csv', 'row': 14}, page_content='\\ufeffGeneral Topic: LEFT, RIGHT, MID Functions\\nTestable Topics: How to use the LEFT, RIGHT, and MID functions to manipulate text in Excel. Challenging problems around manipulation of text'), Document(metadata={'source': './assets/TopicsList.csv', 'row': 15}, page_content='\\ufeffGeneral Topic: CONCATENATE Function\\nTestable Topics: How to use the CONCATENATE function to generate dynamic strings'), Document(metadata={'source': './assets/TopicsList.csv', 'row': 16}, page_content='\\ufeffGeneral Topic: LEN Function\\nTestable Topics: How to use the LEN function to solve problems in Excel'), Document(metadata={'source': './assets/TopicsList.csv', 'row': 17}, page_content='\\ufeffGeneral Topic: TRIM Function\\nTestable Topics: Questions around the TRIM function in Excel'), Document(metadata={'source': './assets/TopicsList.csv', 'row': 18}, page_content='\\ufeffGeneral Topic: SUBSTITUTE Function\\nTestable Topics: How to use the SUBSTITUTE function to solve problems in Excel'), Document(metadata={'source': './assets/TopicsList.csv', 'row': 19}, page_content='\\ufeffGeneral Topic: REPLACE Function\\nTestable Topics: How to use the REPLACE function in conjunction with other Excel functions to solve complex problems in Excel'), Document(metadata={'source': './assets/TopicsList.csv', 'row': 20}, page_content='\\ufeffGeneral Topic: FIND Function\\nTestable Topics: Questions around the FIND function, how it works, and how to use it to solve complex problems in Excel with other functions'), Document(metadata={'source': './assets/TopicsList.csv', 'row': 21}, page_content=\"\\ufeffGeneral Topic: SEARCH Function\\nTestable Topics: Questions around the SEARCH function, how it works,how it's different from the FIND function and how to use it to solve complex problems in Excel with other functions\"), Document(metadata={'source': './assets/TopicsList.csv', 'row': 22}, page_content='\\ufeffGeneral Topic: SEARCH Function Wildcards\\nTestable Topics: How to use wildcard values in Excel, for the SEARCH function'), Document(metadata={'source': './assets/TopicsList.csv', 'row': 23}, page_content='\\ufeffGeneral Topic: R functions, case sensitivity and usage\\nTestable Topics: High-level knowledge about the R language, how to call assignments, case sensitivity around variables and data, etc.'), Document(metadata={'source': './assets/TopicsList.csv', 'row': 24}, page_content='\\ufeffGeneral Topic: R Data types and coercion\\nTestable Topics: Questions around R data types, how the types are coerced. Questions around the type of certain vectors when different types are added to them, implicit coercion when you use different types together, etc.'), Document(metadata={'source': './assets/TopicsList.csv', 'row': 25}, page_content='\\ufeffGeneral Topic: Logical Comparisons\\nTestable Topics: The orderand precedence of logical operations with not, and and or logical operators'), Document(metadata={'source': './assets/TopicsList.csv', 'row': 26}, page_content='\\ufeffGeneral Topic: Vectors\\nTestable Topics: Questions around operating on vectors in R, applying vectors to solve R problems, using vectors in problems with atomic values on the other side of an operator, implicit coercion with vectors, aggregate functions like sd, sum, mean, etc.'), Document(metadata={'source': './assets/TopicsList.csv', 'row': 27}, page_content='\\ufeffGeneral Topic: which() function in R\\nTestable Topics: How to use the which() function in R to solve R problems'), Document(metadata={'source': './assets/TopicsList.csv', 'row': 28}, page_content='\\ufeffGeneral Topic: DataFrames and NA in R\\nTestable Topics: Questions around the tidyverse library, dataframes in R and tibble. How to handle NA when working with dataframes, aggregate functions like mean, sum, sd, etc.'), Document(metadata={'source': './assets/TopicsList.csv', 'row': 29}, page_content='\\ufeffGeneral Topic: Data Wrangling\\nTestable Topics: Using the dplyr and magrittr functions like select, summarise, filter, mutate to solve complex R problems and apply them to R datasets and dataframes'), Document(metadata={'source': './assets/TopicsList.csv', 'row': 30}, page_content='\\ufeffGeneral Topic: group_by() Function\\nTestable Topics: Using the group_by() function in R to solve R problems'), Document(metadata={'source': './assets/TopicsList.csv', 'row': 31}, page_content='\\ufeffGeneral Topic: if_else Function\\nTestable Topics: How to use the if_else function to solve R problems'), Document(metadata={'source': './assets/TopicsList.csv', 'row': 32}, page_content='\\ufeffGeneral Topic: arrange()\\nTestable Topics: How to use the arrange() function to solve R problems'), Document(metadata={'source': './assets/TopicsList.csv', 'row': 33}, page_content='\\ufeffGeneral Topic: unique identifiers and composite keys in R dataframes\\nTestable Topics: How to format R dataframes to include a primary key or composite keys to effectively handle join operations like inner_join and left_join'), Document(metadata={'source': './assets/TopicsList.csv', 'row': 34}, page_content='\\ufeffGeneral Topic: Left_join and Inner_join functions\\nTestable Topics: Questions around the difference between left_join and inner_join functions, when to use either case, and how to use it to solve problems'), Document(metadata={'source': './assets/TopicsList.csv', 'row': 35}, page_content='\\ufeffGeneral Topic: duplicated()\\nTestable Topics: Questions around using the duplicated() function in R')]\n"
     ]
    }
   ],
   "source": [
    "file = './assets/TopicsList.csv'\n",
    "loader = CSVLoader(file_path=file)\n",
    "\n",
    "data = loader.load()\n",
    "print(data)\n"
   ]
  },
  {
   "cell_type": "code",
   "execution_count": 98,
   "metadata": {},
   "outputs": [],
   "source": [
    "embeddings = OpenAIEmbeddings()\n",
    "\n",
    "index = VectorstoreIndexCreator(\n",
    "    vectorstore_cls=DocArrayInMemorySearch,\n",
    "    embedding=embeddings\n",
    ").from_loaders([loader])\n",
    "\n",
    "llm = ChatOpenAI(temperature = 0.0, model=llm_model)\n",
    "qa = RetrievalQA.from_chain_type(\n",
    "    llm=llm, \n",
    "    chain_type=\"stuff\", \n",
    "    retriever=index.vectorstore.as_retriever(), \n",
    "    verbose=True,\n",
    "    chain_type_kwargs = {\n",
    "        \"document_separator\": \"<<<<>>>>>\"\n",
    "    }\n",
    ")\n",
    "\n",
    "# Later on, we can come up with a few VALUES that could be used to evaluate it against"
   ]
  },
  {
   "cell_type": "code",
   "execution_count": 99,
   "metadata": {},
   "outputs": [],
   "source": [
    "# coming up with test datapoints\n",
    "# Hard-coded examples\n",
    "examples = [\n",
    "    {\n",
    "        \"query\": \"Is the CONCATENATE function tested as part of this list of general topics?\",\n",
    "        \"answer\": \"Yes\"\n",
    "    },\n",
    "    {\n",
    "        \"query\": \"What kind of R functions are tested as part of Data Wrangling?\",\n",
    "        \"answer\": \"dyplr, magrittr functions like select, summarise, filter, mutate\"\n",
    "    },\n",
    "    {'query': 'What are the three specific testable topics under the general topic of \"Excel Data Types\" as mentioned in the document?', \n",
    "     'answer': 'The three specific testable topics under the general topic of \"Excel Data Types\" are: '\n",
    "    },\n",
    "    {'query': 'What is the general topic and the specific testable topics listed in the document?', 'answer': 'The general topic is the IF FUNCTION, and the specific testable topics are questions around using the Excel IF Function.'},\n",
    "    \n",
    "    \n",
    "]"
   ]
  },
  {
   "cell_type": "code",
   "execution_count": 100,
   "metadata": {},
   "outputs": [],
   "source": [
    "# ^ These hard coded examples are NOT scalable\n",
    "# LLMs themselves can be used to automate them\n",
    "# A chain example, is the QAgeneration chain. creates Q + A pair with LLMs"
   ]
  },
  {
   "cell_type": "code",
   "execution_count": 101,
   "metadata": {},
   "outputs": [
    {
     "name": "stderr",
     "output_type": "stream",
     "text": [
      "/Users/kevingu/Desktop/examigo/backend/venv/lib/python3.11/site-packages/langchain/chains/llm.py:369: UserWarning: The apply_and_parse method is deprecated, instead pass an output parser directly to LLMChain.\n",
      "  warnings.warn(\n"
     ]
    },
    {
     "name": "stdout",
     "output_type": "stream",
     "text": [
      "[{'qa_pairs': {'query': 'List the three testable topics related to Excel Data Types as mentioned in the document.', 'answer': 'The three testable topics related to Excel Data Types are:'}}, {'qa_pairs': {'query': 'What general topic does the document focus on, and what are the specific testable topics mentioned?', 'answer': 'The general topic the document focuses on is the Excel IF Function. The specific testable topics mentioned are questions around using the Excel IF Function.'}}, {'qa_pairs': {'query': 'What are the three types of cell referencing mentioned in the document, and what is one example of each type?', 'answer': 'The three types of cell referencing mentioned are absolute referencing, relative referencing, and mixed referencing. An example of absolute referencing is $A$1, an example of relative referencing is A1, and an example of mixed referencing is $A1 or A$1.'}}, {'qa_pairs': {'query': 'What is the general topic covered in the document, and what specific type of questions can be asked related to this topic?', 'answer': 'The general topic covered in the document is the MAX function in Excel. The specific type of questions that can be asked are related to the usage and functionality of the MAX function in Excel.'}}, {'qa_pairs': {'query': 'What is the primary function of the MIN function in Excel?', 'answer': 'The primary function of the MIN function in Excel is to find the smallest numeric value in a given set of values.'}}]\n",
      "\n",
      "\n",
      "\u001b[1m> Entering new RetrievalQA chain...\u001b[0m\n",
      "\n",
      "\u001b[1m> Finished chain.\u001b[0m\n"
     ]
    },
    {
     "data": {
      "text/plain": [
       "'Yes, the CONCATENATE function is tested as part of the list of general topics. Specifically, it is included under the topic \"How to use the CONCATENATE function to generate dynamic strings.\"'"
      ]
     },
     "execution_count": 101,
     "metadata": {},
     "output_type": "execute_result"
    }
   ],
   "source": [
    "from langchain.evaluation.qa import QAGenerateChain\n",
    "\n",
    "example_gen_chain = QAGenerateChain.from_llm(ChatOpenAI(model=llm_model))\n",
    "\n",
    "new_examples = example_gen_chain.apply_and_parse(\n",
    "    [{\"doc\": t} for t in data[:5]]\n",
    ")\n",
    "\n",
    "print(new_examples)\n",
    "\n",
    "# for new in new_examples:\n",
    "#     examples += new['qa_pairs']\n",
    "\n",
    "# how can we evaluate it? well, we can try running an example\n",
    "qa.run(examples[0][\"query\"])\n",
    "\n",
    "# It's usually not enough, to look at these parts of the chain. we have util here called langchain.debug"
   ]
  },
  {
   "cell_type": "code",
   "execution_count": 102,
   "metadata": {},
   "outputs": [
    {
     "name": "stdout",
     "output_type": "stream",
     "text": [
      "\u001b[32;1m\u001b[1;3m[chain/start]\u001b[0m \u001b[1m[chain:RetrievalQA] Entering Chain run with input:\n",
      "\u001b[0m{\n",
      "  \"query\": \"Is the CONCATENATE function tested as part of this list of general topics?\"\n",
      "}\n",
      "\u001b[32;1m\u001b[1;3m[chain/start]\u001b[0m \u001b[1m[chain:RetrievalQA > chain:StuffDocumentsChain] Entering Chain run with input:\n",
      "\u001b[0m[inputs]\n",
      "\u001b[32;1m\u001b[1;3m[chain/start]\u001b[0m \u001b[1m[chain:RetrievalQA > chain:StuffDocumentsChain > chain:LLMChain] Entering Chain run with input:\n",
      "\u001b[0m{\n",
      "  \"question\": \"Is the CONCATENATE function tested as part of this list of general topics?\",\n",
      "  \"context\": \"﻿General Topic: CONCATENATE Function\\nTestable Topics: How to use the CONCATENATE function to generate dynamic strings<<<<>>>>>﻿General Topic: AND, OR and NOT Function\\nTestable Topics: Questions around the usage and evaluation of AND, OR and NOT functions<<<<>>>>>﻿General Topic: MATCH Function\\nTestable Topics: Questions around how to use the MATCH function.<<<<>>>>>﻿General Topic: INDEX Function\\nTestable Topics: Questions around how to use the INDEX function\"\n",
      "}\n",
      "\u001b[32;1m\u001b[1;3m[llm/start]\u001b[0m \u001b[1m[chain:RetrievalQA > chain:StuffDocumentsChain > chain:LLMChain > llm:ChatOpenAI] Entering LLM run with input:\n",
      "\u001b[0m{\n",
      "  \"prompts\": [\n",
      "    \"System: Use the following pieces of context to answer the user's question. \\nIf you don't know the answer, just say that you don't know, don't try to make up an answer.\\n----------------\\n﻿General Topic: CONCATENATE Function\\nTestable Topics: How to use the CONCATENATE function to generate dynamic strings<<<<>>>>>﻿General Topic: AND, OR and NOT Function\\nTestable Topics: Questions around the usage and evaluation of AND, OR and NOT functions<<<<>>>>>﻿General Topic: MATCH Function\\nTestable Topics: Questions around how to use the MATCH function.<<<<>>>>>﻿General Topic: INDEX Function\\nTestable Topics: Questions around how to use the INDEX function\\nHuman: Is the CONCATENATE function tested as part of this list of general topics?\"\n",
      "  ]\n",
      "}\n",
      "\u001b[36;1m\u001b[1;3m[llm/end]\u001b[0m \u001b[1m[chain:RetrievalQA > chain:StuffDocumentsChain > chain:LLMChain > llm:ChatOpenAI] [1.33s] Exiting LLM run with output:\n",
      "\u001b[0m{\n",
      "  \"generations\": [\n",
      "    [\n",
      "      {\n",
      "        \"text\": \"Yes, the CONCATENATE function is tested as part of the list of general topics. Specifically, it falls under the general topic \\\"CONCATENATE Function\\\" with the testable topic \\\"How to use the CONCATENATE function to generate dynamic strings.\\\"\",\n",
      "        \"generation_info\": {\n",
      "          \"finish_reason\": \"stop\",\n",
      "          \"logprobs\": null\n",
      "        },\n",
      "        \"type\": \"ChatGeneration\",\n",
      "        \"message\": {\n",
      "          \"lc\": 1,\n",
      "          \"type\": \"constructor\",\n",
      "          \"id\": [\n",
      "            \"langchain\",\n",
      "            \"schema\",\n",
      "            \"messages\",\n",
      "            \"AIMessage\"\n",
      "          ],\n",
      "          \"kwargs\": {\n",
      "            \"content\": \"Yes, the CONCATENATE function is tested as part of the list of general topics. Specifically, it falls under the general topic \\\"CONCATENATE Function\\\" with the testable topic \\\"How to use the CONCATENATE function to generate dynamic strings.\\\"\",\n",
      "            \"response_metadata\": {\n",
      "              \"token_usage\": {\n",
      "                \"completion_tokens\": 52,\n",
      "                \"prompt_tokens\": 165,\n",
      "                \"total_tokens\": 217\n",
      "              },\n",
      "              \"model_name\": \"gpt-4o-2024-05-13\",\n",
      "              \"system_fingerprint\": \"fp_4e2b2da518\",\n",
      "              \"finish_reason\": \"stop\",\n",
      "              \"logprobs\": null\n",
      "            },\n",
      "            \"type\": \"ai\",\n",
      "            \"id\": \"run-3b7cdd5e-87e5-4e14-b9f1-944608d31ac0-0\",\n",
      "            \"usage_metadata\": {\n",
      "              \"input_tokens\": 165,\n",
      "              \"output_tokens\": 52,\n",
      "              \"total_tokens\": 217\n",
      "            },\n",
      "            \"tool_calls\": [],\n",
      "            \"invalid_tool_calls\": []\n",
      "          }\n",
      "        }\n",
      "      }\n",
      "    ]\n",
      "  ],\n",
      "  \"llm_output\": {\n",
      "    \"token_usage\": {\n",
      "      \"completion_tokens\": 52,\n",
      "      \"prompt_tokens\": 165,\n",
      "      \"total_tokens\": 217\n",
      "    },\n",
      "    \"model_name\": \"gpt-4o-2024-05-13\",\n",
      "    \"system_fingerprint\": \"fp_4e2b2da518\"\n",
      "  },\n",
      "  \"run\": null\n",
      "}\n",
      "\u001b[36;1m\u001b[1;3m[chain/end]\u001b[0m \u001b[1m[chain:RetrievalQA > chain:StuffDocumentsChain > chain:LLMChain] [1.33s] Exiting Chain run with output:\n",
      "\u001b[0m{\n",
      "  \"text\": \"Yes, the CONCATENATE function is tested as part of the list of general topics. Specifically, it falls under the general topic \\\"CONCATENATE Function\\\" with the testable topic \\\"How to use the CONCATENATE function to generate dynamic strings.\\\"\"\n",
      "}\n",
      "\u001b[36;1m\u001b[1;3m[chain/end]\u001b[0m \u001b[1m[chain:RetrievalQA > chain:StuffDocumentsChain] [1.34s] Exiting Chain run with output:\n",
      "\u001b[0m{\n",
      "  \"output_text\": \"Yes, the CONCATENATE function is tested as part of the list of general topics. Specifically, it falls under the general topic \\\"CONCATENATE Function\\\" with the testable topic \\\"How to use the CONCATENATE function to generate dynamic strings.\\\"\"\n",
      "}\n",
      "\u001b[36;1m\u001b[1;3m[chain/end]\u001b[0m \u001b[1m[chain:RetrievalQA] [1.59s] Exiting Chain run with output:\n",
      "\u001b[0m{\n",
      "  \"result\": \"Yes, the CONCATENATE function is tested as part of the list of general topics. Specifically, it falls under the general topic \\\"CONCATENATE Function\\\" with the testable topic \\\"How to use the CONCATENATE function to generate dynamic strings.\\\"\"\n",
      "}\n"
     ]
    },
    {
     "data": {
      "text/plain": [
       "'Yes, the CONCATENATE function is tested as part of the list of general topics. Specifically, it falls under the general topic \"CONCATENATE Function\" with the testable topic \"How to use the CONCATENATE function to generate dynamic strings.\"'"
      ]
     },
     "execution_count": 102,
     "metadata": {},
     "output_type": "execute_result"
    }
   ],
   "source": [
    "import langchain\n",
    "langchain.debug = True\n",
    "\n",
    "# we rerun now. now this shows what debugging is like\n",
    "qa.run(examples[0][\"query\"])"
   ]
  },
  {
   "cell_type": "code",
   "execution_count": 103,
   "metadata": {},
   "outputs": [
    {
     "name": "stdout",
     "output_type": "stream",
     "text": [
      "[{'query': 'Is the CONCATENATE function tested as part of this list of general topics?', 'answer': 'Yes'}, {'query': 'What kind of R functions are tested as part of Data Wrangling?', 'answer': 'dyplr, magrittr functions like select, summarise, filter, mutate'}, {'query': 'What are the three specific testable topics under the general topic of \"Excel Data Types\" as mentioned in the document?', 'answer': 'The three specific testable topics under the general topic of \"Excel Data Types\" are: '}, {'query': 'What is the general topic and the specific testable topics listed in the document?', 'answer': 'The general topic is the IF FUNCTION, and the specific testable topics are questions around using the Excel IF Function.'}]\n"
     ]
    }
   ],
   "source": [
    "# turn off debug\n",
    "langchain.debug = False\n",
    "\n",
    "# How can we debug single inputs? how can we evaluate those? one way is manually, run chain and see what might be going on\n",
    "# Can we get a language model to do it?\n",
    "print(examples)"
   ]
  },
  {
   "cell_type": "markdown",
   "metadata": {},
   "source": [
    "LLM assisted evaluation"
   ]
  },
  {
   "cell_type": "code",
   "execution_count": 104,
   "metadata": {},
   "outputs": [
    {
     "name": "stdout",
     "output_type": "stream",
     "text": [
      "\n",
      "\n",
      "\u001b[1m> Entering new RetrievalQA chain...\u001b[0m\n",
      "\n",
      "\u001b[1m> Finished chain.\u001b[0m\n",
      "\n",
      "\n",
      "\u001b[1m> Entering new RetrievalQA chain...\u001b[0m\n",
      "\n",
      "\u001b[1m> Finished chain.\u001b[0m\n",
      "\n",
      "\n",
      "\u001b[1m> Entering new RetrievalQA chain...\u001b[0m\n",
      "\n",
      "\u001b[1m> Finished chain.\u001b[0m\n",
      "\n",
      "\n",
      "\u001b[1m> Entering new RetrievalQA chain...\u001b[0m\n",
      "\n",
      "\u001b[1m> Finished chain.\u001b[0m\n",
      "dict_keys(['results'])\n",
      "[{'query': 'Is the CONCATENATE function tested as part of this list of general topics?', 'result': 'Yes, the CONCATENATE function is tested as part of the list of general topics. Specifically, it falls under the general topic \"CONCATENATE Function\" with the testable topic \"How to use the CONCATENATE function to generate dynamic strings.\"'}, {'query': 'What kind of R functions are tested as part of Data Wrangling?', 'result': 'As part of Data Wrangling in R, the functions from the `dplyr` and `magrittr` packages are commonly tested. These functions include:\\n\\n1. **`select`**: Used to select specific columns from a dataframe.\\n2. **`filter`**: Used to filter rows based on certain conditions.\\n3. **`mutate`**: Used to create new columns or modify existing ones.\\n4. **`summarise` (or `summarize`)**: Used to create summary statistics of data.\\n5. **`arrange`**: Used to sort data by one or more columns.\\n6. **`group_by`**: Used to group data by one or more variables for aggregation.\\n7. **`pipe operator (%>%)`**: From the `magrittr` package, used to chain multiple operations together in a readable manner.\\n\\nThese functions are essential for manipulating and transforming data in R, making them key components of data wrangling tasks.'}, {'query': 'What are the three specific testable topics under the general topic of \"Excel Data Types\" as mentioned in the document?', 'result': 'The three specific testable topics under the general topic of \"Excel Data Types\" mentioned in the document are:\\n1. How numbers are formatted in Excel\\n2. Logical values in Excel\\n3. Text in Excel'}, {'query': 'What is the general topic and the specific testable topics listed in the document?', 'result': \"The general topics and their specific testable topics listed in the document are:\\n\\n1. **Cell References**\\n   - Testable Topics: Questions around absolute referencing, relative referencing, mixed referencing\\n\\n2. **AND, OR and NOT Function**\\n   - Testable Topics: Questions around the usage and evaluation of AND, OR and NOT functions\\n\\n3. **R functions, case sensitivity and usage**\\n   - Testable Topics: High-level knowledge about the R language, how to call assignments, case sensitivity around variables and data, etc.\\n\\n4. **SEARCH Function**\\n   - Testable Topics: Questions around the SEARCH function, how it works, how it's different from the FIND function and how to use it to solve complex problems in Excel with other functions\"}]\n"
     ]
    }
   ],
   "source": [
    "predictions = []\n",
    "for example in examples:\n",
    "    result = qa(example['query'])\n",
    "    predictions.append({\"query\": example['query'], \"result\": result['result']})\n",
    "\n",
    "from langchain.evaluation.qa import QAEvalChain\n",
    "\n",
    "llm = ChatOpenAI(temperature=0, model=llm_model)\n",
    "eval_chain = QAEvalChain.from_llm(llm)\n",
    "\n",
    "# Prepare the data for evaluation\n",
    "eval_data = [\n",
    "    {\n",
    "        \"query\": ex['query'],\n",
    "        \"answer\": ex['answer'],  # Assuming your examples have an 'answer' key\n",
    "        \"result\": pred['result']\n",
    "    }\n",
    "    for ex, pred in zip(examples, predictions)\n",
    "]\n",
    "\n",
    "graded_outputs = eval_chain.evaluate(examples, predictions)\n",
    "\n",
    "print(graded_outputs[0].keys())\n",
    "print(predictions)"
   ]
  },
  {
   "cell_type": "code",
   "execution_count": 105,
   "metadata": {},
   "outputs": [
    {
     "name": "stdout",
     "output_type": "stream",
     "text": [
      "Example 0:\n",
      "Question: Is the CONCATENATE function tested as part of this list of general topics?\n",
      "Predicted Answer: Yes, the CONCATENATE function is tested as part of the list of general topics. Specifically, it falls under the general topic \"CONCATENATE Function\" with the testable topic \"How to use the CONCATENATE function to generate dynamic strings.\"\n",
      "Predicted Grade: CORRECT\n",
      "\n",
      "Example 1:\n",
      "Question: What kind of R functions are tested as part of Data Wrangling?\n",
      "Predicted Answer: As part of Data Wrangling in R, the functions from the `dplyr` and `magrittr` packages are commonly tested. These functions include:\n",
      "\n",
      "1. **`select`**: Used to select specific columns from a dataframe.\n",
      "2. **`filter`**: Used to filter rows based on certain conditions.\n",
      "3. **`mutate`**: Used to create new columns or modify existing ones.\n",
      "4. **`summarise` (or `summarize`)**: Used to create summary statistics of data.\n",
      "5. **`arrange`**: Used to sort data by one or more columns.\n",
      "6. **`group_by`**: Used to group data by one or more variables for aggregation.\n",
      "7. **`pipe operator (%>%)`**: From the `magrittr` package, used to chain multiple operations together in a readable manner.\n",
      "\n",
      "These functions are essential for manipulating and transforming data in R, making them key components of data wrangling tasks.\n",
      "Predicted Grade: GRADE: CORRECT\n",
      "\n",
      "The student's answer includes all the functions mentioned in the true answer and provides additional relevant details without any conflicting statements.\n",
      "\n",
      "Example 2:\n",
      "Question: What are the three specific testable topics under the general topic of \"Excel Data Types\" as mentioned in the document?\n",
      "Predicted Answer: The three specific testable topics under the general topic of \"Excel Data Types\" mentioned in the document are:\n",
      "1. How numbers are formatted in Excel\n",
      "2. Logical values in Excel\n",
      "3. Text in Excel\n",
      "Predicted Grade: CORRECT\n",
      "\n",
      "Example 3:\n",
      "Question: What is the general topic and the specific testable topics listed in the document?\n",
      "Predicted Answer: The general topics and their specific testable topics listed in the document are:\n",
      "\n",
      "1. **Cell References**\n",
      "   - Testable Topics: Questions around absolute referencing, relative referencing, mixed referencing\n",
      "\n",
      "2. **AND, OR and NOT Function**\n",
      "   - Testable Topics: Questions around the usage and evaluation of AND, OR and NOT functions\n",
      "\n",
      "3. **R functions, case sensitivity and usage**\n",
      "   - Testable Topics: High-level knowledge about the R language, how to call assignments, case sensitivity around variables and data, etc.\n",
      "\n",
      "4. **SEARCH Function**\n",
      "   - Testable Topics: Questions around the SEARCH function, how it works, how it's different from the FIND function and how to use it to solve complex problems in Excel with other functions\n",
      "Predicted Grade: GRADE: INCORRECT\n",
      "\n"
     ]
    }
   ],
   "source": [
    "# Print out and see what the output is like\n",
    "for i, eg in enumerate(examples):\n",
    "    print(f\"Example {i}:\")\n",
    "    print(\"Question: \" + predictions[i]['query'])\n",
    "    print(\"Predicted Answer: \" + predictions[i]['result'])\n",
    "    print(\"Predicted Grade: \" + graded_outputs[i]['results'])\n",
    "    print()"
   ]
  },
  {
   "cell_type": "code",
   "execution_count": null,
   "metadata": {},
   "outputs": [],
   "source": [
    "graded_outputs[0]"
   ]
  }
 ],
 "metadata": {
  "kernelspec": {
   "display_name": "venv",
   "language": "python",
   "name": "python3"
  },
  "language_info": {
   "codemirror_mode": {
    "name": "ipython",
    "version": 3
   },
   "file_extension": ".py",
   "mimetype": "text/x-python",
   "name": "python",
   "nbconvert_exporter": "python",
   "pygments_lexer": "ipython3",
   "version": "3.11.1"
  }
 },
 "nbformat": 4,
 "nbformat_minor": 2
}
